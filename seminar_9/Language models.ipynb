{
 "cells": [
  {
   "cell_type": "markdown",
   "id": "bb39d0a0",
   "metadata": {
    "slideshow": {
     "slide_type": "slide"
    }
   },
   "source": [
    "### n-gram языковые модели"
   ]
  },
  {
   "cell_type": "markdown",
   "id": "9c64c6f0",
   "metadata": {
    "slideshow": {
     "slide_type": "fragment"
    }
   },
   "source": [
    "__Расчет вероятности для заданного текста__\n",
    "\n",
    "\n",
    "Зачем?\n",
    "\n",
    "* Машинный перевод:\n",
    "\n",
    "*P(Пойдем на встречу с друзьями) vs P(Пойдем во встречу с друзьями)*\n",
    "\n",
    "\n",
    "\n",
    "* Исправление опечаток\n",
    "\n",
    "*P(Пйдем на встречу) vs P(Пойдем на встречу)*\n",
    "\n",
    "\n",
    "* Распознавание речи\n",
    "\n",
    "*P(I saw a van) vs P(Eyes awe of an)*\n",
    "\n"
   ]
  },
  {
   "cell_type": "markdown",
   "id": "12337500",
   "metadata": {
    "slideshow": {
     "slide_type": "slide"
    }
   },
   "source": [
    "__Задачи языковой модели__:\n",
    "\n",
    "Расчет вероятности для заданного текста\n",
    "    \n",
    "* Совместная вероятность\n",
    "\n",
    "*P(W1, W2, W3 … Wn)*\n",
    "\n",
    " ____\n",
    "\n",
    "\n",
    "Генерация последовательности на основе предыдущих токенов\n",
    "\n",
    "* Условная вероятность\n",
    "\n",
    "*P(W4 | W1, W2, W3)*                \n"
   ]
  },
  {
   "cell_type": "markdown",
   "id": "8a6e8e58",
   "metadata": {
    "slideshow": {
     "slide_type": "slide"
    }
   },
   "source": [
    "<span style=\"color:green\">This is the house</span> that Jack built.\\\n",
    "<span style=\"color:red\">This is the malt</span> that lay in the house that Jack built.\\\n",
    "<span style=\"color:red\">This is the rat</span> that ate the malt\\\n",
    "That lay in the house that Jack built.\\\n",
    "<span style=\"color:red\">This is the cat</span> that killed the rat\\\n",
    "That ate the malt that lay in the house that Jack built.\\\n",
    "<span style=\"color:red\">This is the dog</span> that worried the cat\\\n",
    "That killed the rat that ate the malt\\\n",
    "That lay in the house that Jack built.\\\n",
    "\n",
    "* P(house|this is the) \n",
    "\n"
   ]
  },
  {
   "cell_type": "markdown",
   "id": "ca9b3887",
   "metadata": {
    "slideshow": {
     "slide_type": "fragment"
    }
   },
   "source": [
    "P(house|this is the) = C(this is the house) \\ C(this is the)  = 1/4"
   ]
  },
  {
   "cell_type": "markdown",
   "id": "50c9a59d",
   "metadata": {
    "slideshow": {
     "slide_type": "slide"
    }
   },
   "source": [
    "This is the house <span style=\"color:green\">__that Jack__</span> built.\\\n",
    "This is the malt __that lay__ in the house <span style=\"color:green\">__that Jack__</span> built.\\\n",
    "This is the rat __that ate__ the malt\\\n",
    "__That lay__ in the house <span style=\"color:green\">__that Jack__</span> built.\\\n",
    "This is the cat __that killed__ the rat\\\n",
    "__That ate__ the malt __that lay__ in the house <span style=\"color:green\">__that Jack__</span> built.\\\n",
    "This is the dog __that worried__ the cat\\\n",
    "__That killed__ the rat __that ate__ the malt\\\n",
    "__That lay__ in the house <span style=\"color:green\">__that Jack__</span> built.\n"
   ]
  },
  {
   "cell_type": "markdown",
   "id": "35f2aaa2",
   "metadata": {
    "slideshow": {
     "slide_type": "fragment"
    }
   },
   "source": [
    "P(Jack | that) = C(that Jack) \\ C(that) = 5 \\ 15"
   ]
  },
  {
   "cell_type": "markdown",
   "id": "fb5dde08",
   "metadata": {
    "slideshow": {
     "slide_type": "slide"
    }
   },
   "source": [
    "### Как оценить вероятность всей последовательности?\n",
    "\n",
    "\n",
    "P( мы, идём, на, улицу, чтобы, погулять )\n",
    "\n",
    "Цепное правило для вероятности:\n",
    "\n",
    "$ P(X_1, X_2 ... X_n) = P(X_1)P(X_2|X_1)P(X_3|X_1,X_2)... = \\prod^n_{i=1}P(X_i|X_1,...,X_{i-1})$"
   ]
  },
  {
   "cell_type": "markdown",
   "id": "148aa8f5",
   "metadata": {
    "slideshow": {
     "slide_type": "subslide"
    }
   },
   "source": [
    "### Можем ли мы так делать?\n",
    "\n",
    "\n",
    "\n",
    "P(погулять | мы, идём, на, улицу, чтобы) = C(мы, идём, на, улицу, чтобы погулять) \\ P(мы, идём, на, улицу, чтобы)\n",
    "\n",
    "\n",
    "\n",
    "\n",
    "На самом деле нет, так как теоретически предложений слишком много\n",
    "\n",
    "\n",
    "“The curse of dimensionality”\n"
   ]
  },
  {
   "cell_type": "markdown",
   "id": "b147da34",
   "metadata": {
    "slideshow": {
     "slide_type": "subslide"
    }
   },
   "source": [
    "### The Markov assumtion\n",
    "\n",
    "P(погулять | мы, идём, на, улицу, чтобы) ≈ P(погулять | чтобы) ≈ \n",
    "P(погулять | на, улицу, чтобы)\n",
    "\n",
    "$ P(w_i|w_1w_2..w{i-1}) \\approx P(w_i|w_{i-k}...w_{i-1})$"
   ]
  },
  {
   "cell_type": "markdown",
   "id": "03f9cef7",
   "metadata": {
    "slideshow": {
     "slide_type": "subslide"
    }
   },
   "source": [
    "### А совместная вероятность?\n",
    "\n",
    "$ P(w_1w_2..w_n) \\approx \\prod P(w_i|w_{i-k}...w_{i-1})$"
   ]
  },
  {
   "cell_type": "markdown",
   "id": "69bd89ee",
   "metadata": {
    "slideshow": {
     "slide_type": "subslide"
    }
   },
   "source": [
    "## Униграмная языковая модель\n",
    "\n",
    "\n",
    "$ P(w_1, w_2 ... w_n) \\approx \\prod_i (w_i)$\n",
    "\n",
    "_пятый, а, нет, копорация, и, и, в, четверть, масса_\n",
    "\n"
   ]
  },
  {
   "cell_type": "markdown",
   "id": "fc8f04ca",
   "metadata": {
    "slideshow": {
     "slide_type": "subslide"
    }
   },
   "source": [
    "## Биграмная языковая модель\n",
    "\n",
    "$ P(w_i | w_1, w_2 ... w_n) \\approx P(w_i | w_{i-1})$"
   ]
  },
  {
   "cell_type": "markdown",
   "id": "9efe3a3d",
   "metadata": {
    "slideshow": {
     "slide_type": "subslide"
    }
   },
   "source": [
    "### Важное дополнение: дополнительные токены\n",
    "\n",
    "До:\n",
    "* $ p(W) = p(w_1)p(w_2|w_1) ... p(w_k|w_{k-1}) $\n",
    "\n",
    "После:\n",
    "* $ p(W) = p(w_1|start)p(w_2|w_1) ... p(w_k|w_{k-1})p(end|w_k) $\n"
   ]
  },
  {
   "cell_type": "markdown",
   "id": "30637213",
   "metadata": {
    "slideshow": {
     "slide_type": "slide"
    }
   },
   "source": [
    "* Языковую модель можно расширить до 4,-х, 5-и gram\n",
    "\n",
    "* Очевидно, теоретически этого метода недостаточно для  полноценного моделирования языка,  поскольку в нем присутствуют отдаленные зависимости\n",
    "\n",
    "“__Цветы__, которые я забрал позавчера вечером из магазина,\n",
    "__стоят__ в вазе”\n",
    "\n",
    "\n",
    "* Однако на практике оказывается, что n-грамные модели \n",
    "работают хорошо\n",
    "\n",
    "![](https://i.ibb.co/NW8vPSH/image.png)\n",
    "\n"
   ]
  }
 ],
 "metadata": {
  "celltoolbar": "Slideshow",
  "kernelspec": {
   "display_name": "Python 3 (ipykernel)",
   "language": "python",
   "name": "python3"
  },
  "language_info": {
   "codemirror_mode": {
    "name": "ipython",
    "version": 3
   },
   "file_extension": ".py",
   "mimetype": "text/x-python",
   "name": "python",
   "nbconvert_exporter": "python",
   "pygments_lexer": "ipython3",
   "version": "3.7.7"
  }
 },
 "nbformat": 4,
 "nbformat_minor": 5
}
