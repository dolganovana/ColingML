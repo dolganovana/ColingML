{
 "cells": [
  {
   "cell_type": "markdown",
   "id": "b7346e8a",
   "metadata": {
    "slideshow": {
     "slide_type": "slide"
    }
   },
   "source": [
    "__План занятия:__\n",
    "\n",
    "1) Разминка -- метрическая модель *k nearest neighbours*\n",
    "\n",
    "2) Возвращаемся к линейным классификаторам\n",
    "\n",
    "3) Многоклассовая классификация (softmax)"
   ]
  },
  {
   "cell_type": "markdown",
   "id": "a5bf5055",
   "metadata": {
    "slideshow": {
     "slide_type": "slide"
    }
   },
   "source": [
    "# k nearest neighbours\n",
    "\n",
    "1) Простой алгоритм классификации (или регрессии)\n",
    "\n",
    "2) Непараметрический\n",
    "\n",
    "3) Генерализация достигается за счёт увеличения выборки"
   ]
  },
  {
   "cell_type": "markdown",
   "id": "e35fe1b2",
   "metadata": {
    "slideshow": {
     "slide_type": "slide"
    }
   },
   "source": [
    "* Термин \"обучение\" фактически не применим.\n",
    "\n",
    "* На первом этапе вся обучающая выборка просто запоминается.\n",
    "\n",
    "__Инференес__ (или предсказание нового семпла) происходит следующим образом:\n",
    "\n",
    "1) Для нового примера $X_0$ и запомненной обучающей выборки $X$:\n",
    "\n",
    "2) Расчитать расстояния (например, $l2$ норму) между вектором $X_0$ и каждой строчкой в матрице $X$:\n",
    "\n",
    "$$d(x_0, x_i) = \\sqrt{\\sum_{j=1}^{p}(x_{0j} - x_{ij})^2}$$\n",
    "\n",
    "3) Используя гиперпараметр k выбрать топ-k ближайших примеров по расчитанной метрике расстояния"
   ]
  },
  {
   "cell_type": "markdown",
   "id": "4f2d77e8",
   "metadata": {
    "slideshow": {
     "slide_type": "slide"
    }
   },
   "source": [
    "![knn](https://www.machinelearningmastery.ru/img/0-42265-92346.png)"
   ]
  },
  {
   "cell_type": "markdown",
   "id": "5e5372eb",
   "metadata": {
    "slideshow": {
     "slide_type": "slide"
    }
   },
   "source": [
    "Особенности алгоритма:\n",
    "\n",
    "* Устойчив к выбросам в обучающих данных\n",
    "\n",
    "* Может быть адаптирован для задачи регрессии: ближайшие $y_i$ усредняются\n",
    "\n",
    "* Сильно может помочь стандартизация или нормализация данных:\n",
    "\n",
    "__z-нормализация__ \n",
    "\n",
    "$x' = \\frac{(x - M[X])}{\\sigma[X]}$\n",
    "\n",
    "\n",
    "__min-max нормализация__\n",
    "\n",
    "$x' = \\frac{(x - min[X])}{max[X]-min[X]}$\n",
    "\n"
   ]
  },
  {
   "cell_type": "markdown",
   "id": "268142dd",
   "metadata": {
    "slideshow": {
     "slide_type": "slide"
    }
   },
   "source": [
    "![k](https://stats.libretexts.org/@api/deki/files/1259/knn2.png?revision=1)"
   ]
  },
  {
   "cell_type": "markdown",
   "id": "8a1a4a3b",
   "metadata": {
    "slideshow": {
     "slide_type": "slide"
    }
   },
   "source": [
    "# Бинарная классификация методом логрегрессии (напоминание)\n",
    "\n",
    "$$ y = f(z) = f(<w, x>) = f(\\sum_jw_jx_j)$$\n",
    "\n",
    "$$ f(z) = \\frac{1}{1+e^{-z}}$$\n",
    "\n",
    "$$ f(z) = [0, 1] $$"
   ]
  },
  {
   "cell_type": "markdown",
   "id": "6e5bf2ca",
   "metadata": {
    "slideshow": {
     "slide_type": "slide"
    }
   },
   "source": [
    "$$X = \\begin{bmatrix}\n",
    "    x_{11}       & x_{12} & x_{13} & \\dots & x_{1n} \\\\\n",
    "\\end{bmatrix}$$\n",
    "\n",
    "$$w = \\begin{bmatrix}\n",
    "    w_{1}\\\\w_{2} \\\\w_{3} \\\\ \\dots \\\\ w_{n} \\\\\n",
    "\\end{bmatrix}$$"
   ]
  },
  {
   "cell_type": "markdown",
   "id": "b1730c36",
   "metadata": {
    "slideshow": {
     "slide_type": "slide"
    }
   },
   "source": [
    "# Многоклассовая классификация\n",
    "\n",
    "$$X = \\begin{bmatrix}\n",
    "    x_{11}       & x_{12} & x_{13} & \\dots & x_{1n} \\\\\n",
    "\\end{bmatrix}$$\n",
    "\n",
    "$$w = \\begin{bmatrix}\n",
    "    w_{11} & w_{12} &\\dots & w_{class1}\\\\\n",
    "    w_{21} & w_{22} &\\dots & \\\\\n",
    "    w_{31} & w_{32} &\\dots & \\\\\n",
    "    \\dots \\\\\n",
    "    w_{feature}{1} \\\\\n",
    "\\end{bmatrix}$$\n",
    "\n",
    "\n",
    "$$ y = \\begin{bmatrix}\n",
    "    y_{1} \\\\  \n",
    "    y_{2}\\\\\n",
    "    \\dots \\\\\n",
    "    y_{classes}\n",
    "\\end{bmatrix}$$"
   ]
  },
  {
   "cell_type": "markdown",
   "id": "f48900fa",
   "metadata": {
    "slideshow": {
     "slide_type": "slide"
    }
   },
   "source": [
    "$$ y = \\begin{bmatrix}\n",
    "    3 \\\\  \n",
    "    -6\\\\\n",
    "    \\dots \\\\\n",
    "    113\n",
    "\\end{bmatrix}$$\n",
    "\n"
   ]
  },
  {
   "cell_type": "markdown",
   "id": "1b62a8e2",
   "metadata": {
    "slideshow": {
     "slide_type": "subslide"
    }
   },
   "source": [
    "![](https://neurohive.io/wp-content/uploads/2018/11/gradientnyi-spusk-metod-e1542713052381.jpg)"
   ]
  },
  {
   "cell_type": "markdown",
   "id": "a6811265",
   "metadata": {
    "slideshow": {
     "slide_type": "slide"
    }
   },
   "source": [
    "## Loss function\n",
    "\n",
    "1) Одно число\n",
    "\n",
    "2) Меньше - значит лучше w\n",
    "\n",
    "3) Дифференциируемость (small changes -- visible results)\n",
    "\n"
   ]
  },
  {
   "cell_type": "markdown",
   "id": "5f8b636d",
   "metadata": {
    "slideshow": {
     "slide_type": "slide"
    }
   },
   "source": [
    "# Один из подходов: maximum likelhood (принцип максимального правдоподобия)\n",
    "\n",
    "$$ p = (c=y|x,w)$$\n",
    "\n"
   ]
  },
  {
   "cell_type": "markdown",
   "id": "e2ce72a4",
   "metadata": {
    "slideshow": {
     "slide_type": "slide"
    }
   },
   "source": [
    "Лучшая модель такова, в которой при наличии неких весов $w$ вероятность датасета максимальна\n",
    "\n",
    "$$p(data) = \\prod{p(c=y_j|x_j)}$$"
   ]
  },
  {
   "cell_type": "markdown",
   "id": "3a75d728",
   "metadata": {
    "slideshow": {
     "slide_type": "fragment"
    }
   },
   "source": [
    "Вычислительный трюк-преобразование (cross-entropy loss)\n",
    "\n",
    "\n",
    "$$ -\\ln{p(data)} = -\\sum{\\ln{p(c=y_j|x_j)}}$$"
   ]
  },
  {
   "cell_type": "markdown",
   "id": "ca902641",
   "metadata": {
    "slideshow": {
     "slide_type": "slide"
    }
   },
   "source": [
    "# Softmax\n",
    "\n",
    "\n",
    "$$ p(x|c = 0) = N(\\eta_0, \\sigma)$$\n",
    "$$ p(x|c = 1) = N(\\eta_1, \\sigma)$$\n",
    "$$ \\dots $$"
   ]
  },
  {
   "cell_type": "markdown",
   "id": "c7b1587c",
   "metadata": {
    "slideshow": {
     "slide_type": "slide"
    }
   },
   "source": [
    "\n",
    "$$p(c=0|x) = \\frac{e^{w_0x}}{\\sum{e^{w_ix}}}$$\n",
    "\n",
    "$$p(c=1|x) = \\frac{e^{w_0x}}{\\sum{e^{w_ix}}}$$\n",
    "\n",
    "$$ \\dots $$"
   ]
  },
  {
   "cell_type": "markdown",
   "id": "a1858db3",
   "metadata": {
    "slideshow": {
     "slide_type": "fragment"
    }
   },
   "source": [
    "$$p(x|c=i) = softmax(x \\cdot w)$$"
   ]
  },
  {
   "cell_type": "markdown",
   "id": "0280c0bd",
   "metadata": {
    "slideshow": {
     "slide_type": "subslide"
    }
   },
   "source": [
    "$$ y = \\begin{bmatrix}\n",
    "    3 \\\\  \n",
    "    -6\\\\\n",
    "    \\dots \\\\\n",
    "    113\n",
    "\\end{bmatrix}$$\n",
    "$$$$\n",
    "$$ softmax(y) = \\begin{bmatrix}\n",
    "    0.2 \\\\  \n",
    "    0.01\\\\\n",
    "    \\dots \\\\\n",
    "    0.95\n",
    "\\end{bmatrix}$$\n",
    "\n",
    "\n",
    "$$\\frac{e^{3}}{e^3 + e^{-6} + e^{\\dots} + e^{113}}$$"
   ]
  },
  {
   "cell_type": "markdown",
   "id": "4c604b21",
   "metadata": {
    "slideshow": {
     "slide_type": "slide"
    }
   },
   "source": [
    "# Всё вместе\n",
    "\n",
    "$$L = -\\sum{\\ln{p(c=y_j|x_j)}}$$\n",
    "\n",
    "$$p(c=i|x) = softmax(x \\cdot w)$$"
   ]
  },
  {
   "cell_type": "markdown",
   "id": "dafafd53",
   "metadata": {
    "slideshow": {
     "slide_type": "fragment"
    }
   },
   "source": [
    "$$-\\sum{\\ln{\\frac{e^{w_0x}}{\\sum{e^{w_ix}}}}}$$\n",
    "\n",
    "$$w = w - \\eta\\nabla_wL$$"
   ]
  },
  {
   "cell_type": "code",
   "execution_count": null,
   "id": "e8ea5bde",
   "metadata": {},
   "outputs": [],
   "source": []
  }
 ],
 "metadata": {
  "celltoolbar": "Slideshow",
  "kernelspec": {
   "display_name": "Python 3 (ipykernel)",
   "language": "python",
   "name": "python3"
  },
  "language_info": {
   "codemirror_mode": {
    "name": "ipython",
    "version": 3
   },
   "file_extension": ".py",
   "mimetype": "text/x-python",
   "name": "python",
   "nbconvert_exporter": "python",
   "pygments_lexer": "ipython3",
   "version": "3.7.7"
  }
 },
 "nbformat": 4,
 "nbformat_minor": 5
}
