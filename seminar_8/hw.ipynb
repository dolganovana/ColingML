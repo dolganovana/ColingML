{
 "cells": [
  {
   "cell_type": "markdown",
   "id": "f9c5c16d",
   "metadata": {},
   "source": [
    "## SMS spam classification"
   ]
  },
  {
   "cell_type": "markdown",
   "id": "52a8b52e",
   "metadata": {},
   "source": [
    "1) Проведите исследовательский анализ данных spam.csv\n",
    "    \n",
    "    Некоторые идеи:\n",
    "    * Распределения токенов, нграм токенов\n",
    "    * Распределения длинн текстов\n",
    "\n",
    "2) Рассчитайте значение Tf-Idf (вручную) для всех текстов\n",
    "\n",
    "3) Добавьте дополнительные признаки.\n",
    "    \n",
    "    Некоторые идеи:\n",
    "    * Количество \"стоп слов\"\n",
    "    * Количество некоторых знаков препинания или символов\n",
    "    * Значение индекса тональности\n",
    "   \n",
    "4) Сравните несколько методов обработки данных (например, разные токенизации), влияние добавления признаков и хотя бы 3 разных модели"
   ]
  },
  {
   "cell_type": "code",
   "execution_count": null,
   "id": "a4349d09",
   "metadata": {},
   "outputs": [],
   "source": []
  }
 ],
 "metadata": {
  "kernelspec": {
   "display_name": "Python 3 (ipykernel)",
   "language": "python",
   "name": "python3"
  },
  "language_info": {
   "codemirror_mode": {
    "name": "ipython",
    "version": 3
   },
   "file_extension": ".py",
   "mimetype": "text/x-python",
   "name": "python",
   "nbconvert_exporter": "python",
   "pygments_lexer": "ipython3",
   "version": "3.7.7"
  }
 },
 "nbformat": 4,
 "nbformat_minor": 5
}
